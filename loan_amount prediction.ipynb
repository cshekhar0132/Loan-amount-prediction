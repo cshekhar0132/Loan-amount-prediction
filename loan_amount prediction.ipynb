{
 "cells": [
  {
   "cell_type": "code",
   "execution_count": 1,
   "id": "22358432",
   "metadata": {},
   "outputs": [],
   "source": [
    "from warnings import filterwarnings\n",
    "filterwarnings('ignore')"
   ]
  },
  {
   "cell_type": "markdown",
   "id": "fabde1e3",
   "metadata": {},
   "source": [
    "# Read dataset"
   ]
  },
  {
   "cell_type": "code",
   "execution_count": 2,
   "id": "f1030223",
   "metadata": {},
   "outputs": [],
   "source": [
    "import pandas as pd\n",
    "A=pd.read_csv('C:/Users/dell/Desktop/training_set.csv')"
   ]
  },
  {
   "cell_type": "code",
   "execution_count": 3,
   "id": "a510dcb5",
   "metadata": {},
   "outputs": [
    {
     "data": {
      "text/html": [
       "<div>\n",
       "<style scoped>\n",
       "    .dataframe tbody tr th:only-of-type {\n",
       "        vertical-align: middle;\n",
       "    }\n",
       "\n",
       "    .dataframe tbody tr th {\n",
       "        vertical-align: top;\n",
       "    }\n",
       "\n",
       "    .dataframe thead th {\n",
       "        text-align: right;\n",
       "    }\n",
       "</style>\n",
       "<table border=\"1\" class=\"dataframe\">\n",
       "  <thead>\n",
       "    <tr style=\"text-align: right;\">\n",
       "      <th></th>\n",
       "      <th>Loan_ID</th>\n",
       "      <th>Gender</th>\n",
       "      <th>Married</th>\n",
       "      <th>Dependents</th>\n",
       "      <th>Education</th>\n",
       "      <th>Self_Employed</th>\n",
       "      <th>ApplicantIncome</th>\n",
       "      <th>CoapplicantIncome</th>\n",
       "      <th>LoanAmount</th>\n",
       "      <th>Loan_Amount_Term</th>\n",
       "      <th>Credit_History</th>\n",
       "      <th>Property_Area</th>\n",
       "      <th>Loan_Status</th>\n",
       "    </tr>\n",
       "  </thead>\n",
       "  <tbody>\n",
       "    <tr>\n",
       "      <th>0</th>\n",
       "      <td>LP001002</td>\n",
       "      <td>Male</td>\n",
       "      <td>No</td>\n",
       "      <td>0</td>\n",
       "      <td>Graduate</td>\n",
       "      <td>No</td>\n",
       "      <td>5849.0</td>\n",
       "      <td>0.0</td>\n",
       "      <td>NaN</td>\n",
       "      <td>360.0</td>\n",
       "      <td>1.0</td>\n",
       "      <td>Urban</td>\n",
       "      <td>Y</td>\n",
       "    </tr>\n",
       "    <tr>\n",
       "      <th>1</th>\n",
       "      <td>LP001003</td>\n",
       "      <td>Male</td>\n",
       "      <td>Yes</td>\n",
       "      <td>1</td>\n",
       "      <td>Graduate</td>\n",
       "      <td>No</td>\n",
       "      <td>NaN</td>\n",
       "      <td>1508.0</td>\n",
       "      <td>128.0</td>\n",
       "      <td>360.0</td>\n",
       "      <td>1.0</td>\n",
       "      <td>Rural</td>\n",
       "      <td>N</td>\n",
       "    </tr>\n",
       "  </tbody>\n",
       "</table>\n",
       "</div>"
      ],
      "text/plain": [
       "    Loan_ID Gender Married Dependents Education Self_Employed  \\\n",
       "0  LP001002   Male      No          0  Graduate            No   \n",
       "1  LP001003   Male     Yes          1  Graduate            No   \n",
       "\n",
       "   ApplicantIncome  CoapplicantIncome  LoanAmount  Loan_Amount_Term  \\\n",
       "0           5849.0                0.0         NaN             360.0   \n",
       "1              NaN             1508.0       128.0             360.0   \n",
       "\n",
       "   Credit_History Property_Area Loan_Status  \n",
       "0             1.0         Urban           Y  \n",
       "1             1.0         Rural           N  "
      ]
     },
     "execution_count": 3,
     "metadata": {},
     "output_type": "execute_result"
    }
   ],
   "source": [
    "A.head(2)"
   ]
  },
  {
   "cell_type": "markdown",
   "id": "4f0900b9",
   "metadata": {},
   "source": [
    "# Remove statically unimportant columns"
   ]
  },
  {
   "cell_type": "code",
   "execution_count": 4,
   "id": "695a28df",
   "metadata": {},
   "outputs": [
    {
     "data": {
      "text/plain": [
       "Loan_ID              614\n",
       "Gender                 2\n",
       "Married                2\n",
       "Dependents             4\n",
       "Education              2\n",
       "Self_Employed          2\n",
       "ApplicantIncome      504\n",
       "CoapplicantIncome    286\n",
       "LoanAmount           203\n",
       "Loan_Amount_Term      10\n",
       "Credit_History         2\n",
       "Property_Area          3\n",
       "Loan_Status            2\n",
       "dtype: int64"
      ]
     },
     "execution_count": 4,
     "metadata": {},
     "output_type": "execute_result"
    }
   ],
   "source": [
    "A.nunique()"
   ]
  },
  {
   "cell_type": "code",
   "execution_count": 5,
   "id": "73d23658",
   "metadata": {},
   "outputs": [],
   "source": [
    "A=A.drop(labels=['Loan_ID'],axis=1)"
   ]
  },
  {
   "cell_type": "markdown",
   "id": "f05913af",
   "metadata": {},
   "source": [
    "# Missing data treatment"
   ]
  },
  {
   "cell_type": "code",
   "execution_count": 6,
   "id": "843efb54",
   "metadata": {},
   "outputs": [
    {
     "data": {
      "text/plain": [
       "Gender               15\n",
       "Married               3\n",
       "Dependents           15\n",
       "Education             1\n",
       "Self_Employed        32\n",
       "ApplicantIncome       2\n",
       "CoapplicantIncome     1\n",
       "LoanAmount           22\n",
       "Loan_Amount_Term     14\n",
       "Credit_History       50\n",
       "Property_Area         0\n",
       "Loan_Status           0\n",
       "dtype: int64"
      ]
     },
     "execution_count": 6,
     "metadata": {},
     "output_type": "execute_result"
    }
   ],
   "source": [
    "A.isna().sum()"
   ]
  },
  {
   "cell_type": "code",
   "execution_count": 7,
   "id": "ab7c4e8a",
   "metadata": {},
   "outputs": [],
   "source": [
    "for i in A.columns:\n",
    "    if(A[i].dtypes=='object'):\n",
    "        t=A[i].mode()[0]\n",
    "        A[i]=A[i].fillna(t)\n",
    "    else:\n",
    "        t=A[i].mean()\n",
    "        A[i]=A[i].fillna(t)"
   ]
  },
  {
   "cell_type": "code",
   "execution_count": 8,
   "id": "8c843f97",
   "metadata": {},
   "outputs": [
    {
     "data": {
      "text/plain": [
       "Gender               0\n",
       "Married              0\n",
       "Dependents           0\n",
       "Education            0\n",
       "Self_Employed        0\n",
       "ApplicantIncome      0\n",
       "CoapplicantIncome    0\n",
       "LoanAmount           0\n",
       "Loan_Amount_Term     0\n",
       "Credit_History       0\n",
       "Property_Area        0\n",
       "Loan_Status          0\n",
       "dtype: int64"
      ]
     },
     "execution_count": 8,
     "metadata": {},
     "output_type": "execute_result"
    }
   ],
   "source": [
    "A.isna().sum()"
   ]
  },
  {
   "cell_type": "markdown",
   "id": "703756a7",
   "metadata": {},
   "source": [
    "# Outliers"
   ]
  },
  {
   "cell_type": "code",
   "execution_count": 9,
   "id": "a283e06f",
   "metadata": {},
   "outputs": [],
   "source": [
    "cat=[]\n",
    "con=[]"
   ]
  },
  {
   "cell_type": "code",
   "execution_count": 10,
   "id": "c5d9962f",
   "metadata": {},
   "outputs": [],
   "source": [
    "for i in A.columns:\n",
    "    if(A[i].dtypes=='object'):\n",
    "        cat.append(i)\n",
    "    else:\n",
    "        con.append(i)"
   ]
  },
  {
   "cell_type": "code",
   "execution_count": 11,
   "id": "c5505721",
   "metadata": {},
   "outputs": [
    {
     "data": {
      "text/plain": [
       "['Gender',\n",
       " 'Married',\n",
       " 'Dependents',\n",
       " 'Education',\n",
       " 'Self_Employed',\n",
       " 'Property_Area',\n",
       " 'Loan_Status']"
      ]
     },
     "execution_count": 11,
     "metadata": {},
     "output_type": "execute_result"
    }
   ],
   "source": [
    "cat"
   ]
  },
  {
   "cell_type": "code",
   "execution_count": 12,
   "id": "526a2da7",
   "metadata": {},
   "outputs": [
    {
     "data": {
      "text/plain": [
       "['ApplicantIncome',\n",
       " 'CoapplicantIncome',\n",
       " 'LoanAmount',\n",
       " 'Loan_Amount_Term',\n",
       " 'Credit_History']"
      ]
     },
     "execution_count": 12,
     "metadata": {},
     "output_type": "execute_result"
    }
   ],
   "source": [
    "con"
   ]
  },
  {
   "cell_type": "code",
   "execution_count": 13,
   "id": "b25243e1",
   "metadata": {},
   "outputs": [],
   "source": [
    "from sklearn.preprocessing import StandardScaler\n",
    "ss=StandardScaler()\n",
    "A1=pd.DataFrame(ss.fit_transform(A[con]),columns=con)"
   ]
  },
  {
   "cell_type": "code",
   "execution_count": 14,
   "id": "2d4e937d",
   "metadata": {},
   "outputs": [
    {
     "data": {
      "text/html": [
       "<div>\n",
       "<style scoped>\n",
       "    .dataframe tbody tr th:only-of-type {\n",
       "        vertical-align: middle;\n",
       "    }\n",
       "\n",
       "    .dataframe tbody tr th {\n",
       "        vertical-align: top;\n",
       "    }\n",
       "\n",
       "    .dataframe thead th {\n",
       "        text-align: right;\n",
       "    }\n",
       "</style>\n",
       "<table border=\"1\" class=\"dataframe\">\n",
       "  <thead>\n",
       "    <tr style=\"text-align: right;\">\n",
       "      <th></th>\n",
       "      <th>ApplicantIncome</th>\n",
       "      <th>CoapplicantIncome</th>\n",
       "      <th>LoanAmount</th>\n",
       "      <th>Loan_Amount_Term</th>\n",
       "      <th>Credit_History</th>\n",
       "    </tr>\n",
       "  </thead>\n",
       "  <tbody>\n",
       "    <tr>\n",
       "      <th>126</th>\n",
       "      <td>3.014027</td>\n",
       "      <td>-0.554368</td>\n",
       "      <td>2.662742</td>\n",
       "      <td>0.279851</td>\n",
       "      <td>0.451640</td>\n",
       "    </tr>\n",
       "    <tr>\n",
       "      <th>155</th>\n",
       "      <td>5.667392</td>\n",
       "      <td>-0.554368</td>\n",
       "      <td>5.401848</td>\n",
       "      <td>-2.518655</td>\n",
       "      <td>-2.410441</td>\n",
       "    </tr>\n",
       "    <tr>\n",
       "      <th>171</th>\n",
       "      <td>7.594669</td>\n",
       "      <td>-0.554368</td>\n",
       "      <td>6.592764</td>\n",
       "      <td>-0.652985</td>\n",
       "      <td>0.451640</td>\n",
       "    </tr>\n",
       "    <tr>\n",
       "      <th>183</th>\n",
       "      <td>4.659355</td>\n",
       "      <td>-0.554368</td>\n",
       "      <td>1.352735</td>\n",
       "      <td>0.279851</td>\n",
       "      <td>0.451640</td>\n",
       "    </tr>\n",
       "    <tr>\n",
       "      <th>185</th>\n",
       "      <td>5.527810</td>\n",
       "      <td>1.070202</td>\n",
       "      <td>-0.314547</td>\n",
       "      <td>0.279851</td>\n",
       "      <td>0.451640</td>\n",
       "    </tr>\n",
       "    <tr>\n",
       "      <th>333</th>\n",
       "      <td>9.490819</td>\n",
       "      <td>-0.554368</td>\n",
       "      <td>4.091841</td>\n",
       "      <td>-2.518655</td>\n",
       "      <td>0.451640</td>\n",
       "    </tr>\n",
       "    <tr>\n",
       "      <th>409</th>\n",
       "      <td>12.384520</td>\n",
       "      <td>-0.554368</td>\n",
       "      <td>2.543651</td>\n",
       "      <td>0.279851</td>\n",
       "      <td>-2.410441</td>\n",
       "    </tr>\n",
       "    <tr>\n",
       "      <th>443</th>\n",
       "      <td>5.293863</td>\n",
       "      <td>-0.554368</td>\n",
       "      <td>0.066546</td>\n",
       "      <td>0.279851</td>\n",
       "      <td>0.451640</td>\n",
       "    </tr>\n",
       "  </tbody>\n",
       "</table>\n",
       "</div>"
      ],
      "text/plain": [
       "     ApplicantIncome  CoapplicantIncome  LoanAmount  Loan_Amount_Term  \\\n",
       "126         3.014027          -0.554368    2.662742          0.279851   \n",
       "155         5.667392          -0.554368    5.401848         -2.518655   \n",
       "171         7.594669          -0.554368    6.592764         -0.652985   \n",
       "183         4.659355          -0.554368    1.352735          0.279851   \n",
       "185         5.527810           1.070202   -0.314547          0.279851   \n",
       "333         9.490819          -0.554368    4.091841         -2.518655   \n",
       "409        12.384520          -0.554368    2.543651          0.279851   \n",
       "443         5.293863          -0.554368    0.066546          0.279851   \n",
       "\n",
       "     Credit_History  \n",
       "126        0.451640  \n",
       "155       -2.410441  \n",
       "171        0.451640  \n",
       "183        0.451640  \n",
       "185        0.451640  \n",
       "333        0.451640  \n",
       "409       -2.410441  \n",
       "443        0.451640  "
      ]
     },
     "execution_count": 14,
     "metadata": {},
     "output_type": "execute_result"
    }
   ],
   "source": [
    "A1[(A1['ApplicantIncome']>3)|(A1['ApplicantIncome']<-3)]"
   ]
  },
  {
   "cell_type": "code",
   "execution_count": 15,
   "id": "37ff27c4",
   "metadata": {},
   "outputs": [],
   "source": [
    "outliers=[]"
   ]
  },
  {
   "cell_type": "code",
   "execution_count": 16,
   "id": "c623eb51",
   "metadata": {},
   "outputs": [],
   "source": [
    "for i in con:\n",
    "    outliers.extend(A1[(A1[i]>3)|(A1[i]<-3)].index)"
   ]
  },
  {
   "cell_type": "code",
   "execution_count": 17,
   "id": "385b7932",
   "metadata": {},
   "outputs": [
    {
     "data": {
      "text/plain": [
       "[126,\n",
       " 155,\n",
       " 171,\n",
       " 183,\n",
       " 185,\n",
       " 333,\n",
       " 409,\n",
       " 443,\n",
       " 9,\n",
       " 177,\n",
       " 402,\n",
       " 417,\n",
       " 581,\n",
       " 600,\n",
       " 130,\n",
       " 155,\n",
       " 171,\n",
       " 177,\n",
       " 278,\n",
       " 308,\n",
       " 333,\n",
       " 369,\n",
       " 432,\n",
       " 487,\n",
       " 506,\n",
       " 523,\n",
       " 525,\n",
       " 561,\n",
       " 604,\n",
       " 14,\n",
       " 68,\n",
       " 94,\n",
       " 133,\n",
       " 242,\n",
       " 262,\n",
       " 313,\n",
       " 495,\n",
       " 497,\n",
       " 546,\n",
       " 575,\n",
       " 585]"
      ]
     },
     "execution_count": 17,
     "metadata": {},
     "output_type": "execute_result"
    }
   ],
   "source": [
    "outliers"
   ]
  },
  {
   "cell_type": "code",
   "execution_count": 18,
   "id": "2bd41739",
   "metadata": {},
   "outputs": [],
   "source": [
    "from numpy import unique\n",
    "out=unique(outliers)"
   ]
  },
  {
   "cell_type": "code",
   "execution_count": 19,
   "id": "b13a6dde",
   "metadata": {},
   "outputs": [
    {
     "data": {
      "text/plain": [
       "array([  9,  14,  68,  94, 126, 130, 133, 155, 171, 177, 183, 185, 242,\n",
       "       262, 278, 308, 313, 333, 369, 402, 409, 417, 432, 443, 487, 495,\n",
       "       497, 506, 523, 525, 546, 561, 575, 581, 585, 600, 604])"
      ]
     },
     "execution_count": 19,
     "metadata": {},
     "output_type": "execute_result"
    }
   ],
   "source": [
    "out"
   ]
  },
  {
   "cell_type": "code",
   "execution_count": 20,
   "id": "d288d056",
   "metadata": {},
   "outputs": [],
   "source": [
    "A=A.drop(index=out,axis=0)"
   ]
  },
  {
   "cell_type": "code",
   "execution_count": 21,
   "id": "9ea68981",
   "metadata": {},
   "outputs": [
    {
     "data": {
      "text/plain": [
       "(577, 12)"
      ]
     },
     "execution_count": 21,
     "metadata": {},
     "output_type": "execute_result"
    }
   ],
   "source": [
    "A.shape"
   ]
  },
  {
   "cell_type": "code",
   "execution_count": 22,
   "id": "ec50ae90",
   "metadata": {},
   "outputs": [],
   "source": [
    "A.index=range(0,577,1)"
   ]
  },
  {
   "cell_type": "code",
   "execution_count": 23,
   "id": "907dec2e",
   "metadata": {},
   "outputs": [
    {
     "data": {
      "text/plain": [
       "RangeIndex(start=0, stop=577, step=1)"
      ]
     },
     "execution_count": 23,
     "metadata": {},
     "output_type": "execute_result"
    }
   ],
   "source": [
    "A.index"
   ]
  },
  {
   "cell_type": "markdown",
   "id": "f905af01",
   "metadata": {},
   "source": [
    "# EDA"
   ]
  },
  {
   "cell_type": "code",
   "execution_count": 24,
   "id": "7d614b50",
   "metadata": {},
   "outputs": [],
   "source": [
    "Y=A[['LoanAmount']]\n",
    "X=A.drop(labels=['LoanAmount'],axis=1)"
   ]
  },
  {
   "cell_type": "code",
   "execution_count": 25,
   "id": "df8ad966",
   "metadata": {},
   "outputs": [],
   "source": [
    "cat=[]\n",
    "con=[]"
   ]
  },
  {
   "cell_type": "code",
   "execution_count": 26,
   "id": "77ad93ae",
   "metadata": {},
   "outputs": [],
   "source": [
    "for i in X.columns:\n",
    "    if(X[i].dtypes=='object'):\n",
    "        cat.append(i)\n",
    "    else:\n",
    "        con.append(i)"
   ]
  },
  {
   "cell_type": "code",
   "execution_count": 27,
   "id": "8a5df156",
   "metadata": {},
   "outputs": [
    {
     "data": {
      "text/plain": [
       "['Gender',\n",
       " 'Married',\n",
       " 'Dependents',\n",
       " 'Education',\n",
       " 'Self_Employed',\n",
       " 'Property_Area',\n",
       " 'Loan_Status']"
      ]
     },
     "execution_count": 27,
     "metadata": {},
     "output_type": "execute_result"
    }
   ],
   "source": [
    "cat"
   ]
  },
  {
   "cell_type": "code",
   "execution_count": 28,
   "id": "d0e4c323",
   "metadata": {},
   "outputs": [
    {
     "data": {
      "text/plain": [
       "['ApplicantIncome', 'CoapplicantIncome', 'Loan_Amount_Term', 'Credit_History']"
      ]
     },
     "execution_count": 28,
     "metadata": {},
     "output_type": "execute_result"
    }
   ],
   "source": [
    "con"
   ]
  },
  {
   "cell_type": "markdown",
   "id": "76bf779f",
   "metadata": {},
   "source": [
    "# Anova"
   ]
  },
  {
   "cell_type": "code",
   "execution_count": 29,
   "id": "ccbad35d",
   "metadata": {},
   "outputs": [
    {
     "name": "stdout",
     "output_type": "stream",
     "text": [
      "LoanAmount~ Gender 0.00011393078888384699\n",
      "LoanAmount~ Married 6.726601485978352e-05\n",
      "LoanAmount~ Dependents 0.008630322195418415\n",
      "LoanAmount~ Education 0.000411065460670111\n",
      "LoanAmount~ Self_Employed 0.0033620947148734616\n",
      "LoanAmount~ Property_Area 0.191001021718749\n",
      "LoanAmount~ Loan_Status 0.3975032611524607\n"
     ]
    }
   ],
   "source": [
    "for i in cat:\n",
    "    eq=str('LoanAmount')+'~'+str(i)\n",
    "    from statsmodels.formula.api import ols\n",
    "    model=ols(eq,A).fit()\n",
    "    from statsmodels.stats.api import anova_lm\n",
    "    pval=anova_lm(model).iloc[0:1,4:5].values[0][0]\n",
    "    print('LoanAmount~',i,pval)"
   ]
  },
  {
   "cell_type": "markdown",
   "id": "d0f3abd7",
   "metadata": {},
   "source": [
    "# correlation"
   ]
  },
  {
   "cell_type": "code",
   "execution_count": 30,
   "id": "1c1ba37b",
   "metadata": {},
   "outputs": [
    {
     "data": {
      "text/plain": [
       "ApplicantIncome      0.442229\n",
       "CoapplicantIncome    0.309603\n",
       "LoanAmount           1.000000\n",
       "Loan_Amount_Term     0.040302\n",
       "Credit_History       0.006094\n",
       "Name: LoanAmount, dtype: float64"
      ]
     },
     "execution_count": 30,
     "metadata": {},
     "output_type": "execute_result"
    }
   ],
   "source": [
    "A.corr()['LoanAmount']\n",
    "    "
   ]
  },
  {
   "cell_type": "markdown",
   "id": "d910b9c2",
   "metadata": {},
   "source": [
    "# Define X and Y"
   ]
  },
  {
   "cell_type": "code",
   "execution_count": 31,
   "id": "ae4227cd",
   "metadata": {},
   "outputs": [],
   "source": [
    "Y=A[['LoanAmount']]"
   ]
  },
  {
   "cell_type": "code",
   "execution_count": 32,
   "id": "7b03afd3",
   "metadata": {},
   "outputs": [],
   "source": [
    "X=A[['Gender','Married','Dependents','Education','Self_Employed','ApplicantIncome','CoapplicantIncome']]"
   ]
  },
  {
   "cell_type": "code",
   "execution_count": 33,
   "id": "c8997405",
   "metadata": {},
   "outputs": [],
   "source": [
    "cat=[]\n",
    "con=[]"
   ]
  },
  {
   "cell_type": "code",
   "execution_count": 34,
   "id": "5f1f36a2",
   "metadata": {},
   "outputs": [],
   "source": [
    "for i in X.columns:\n",
    "    if(X[i].dtypes=='object'):\n",
    "        cat.append(i)\n",
    "    else:\n",
    "        con.append(i)"
   ]
  },
  {
   "cell_type": "code",
   "execution_count": 35,
   "id": "fcf42860",
   "metadata": {},
   "outputs": [
    {
     "data": {
      "text/plain": [
       "['Gender', 'Married', 'Dependents', 'Education', 'Self_Employed']"
      ]
     },
     "execution_count": 35,
     "metadata": {},
     "output_type": "execute_result"
    }
   ],
   "source": [
    "cat"
   ]
  },
  {
   "cell_type": "code",
   "execution_count": 36,
   "id": "4065b504",
   "metadata": {},
   "outputs": [
    {
     "data": {
      "text/plain": [
       "['ApplicantIncome', 'CoapplicantIncome']"
      ]
     },
     "execution_count": 36,
     "metadata": {},
     "output_type": "execute_result"
    }
   ],
   "source": [
    "con"
   ]
  },
  {
   "cell_type": "code",
   "execution_count": 37,
   "id": "cf8e3698",
   "metadata": {},
   "outputs": [],
   "source": [
    "from sklearn.preprocessing import MinMaxScaler\n",
    "mm=MinMaxScaler()\n",
    "x1=pd.DataFrame(mm.fit_transform(X[con]),columns=con)\n",
    "x2=pd.get_dummies(X[cat])\n",
    "xnew=x1.join(x2)"
   ]
  },
  {
   "cell_type": "code",
   "execution_count": 38,
   "id": "8f1b1949",
   "metadata": {},
   "outputs": [
    {
     "data": {
      "text/html": [
       "<div>\n",
       "<style scoped>\n",
       "    .dataframe tbody tr th:only-of-type {\n",
       "        vertical-align: middle;\n",
       "    }\n",
       "\n",
       "    .dataframe tbody tr th {\n",
       "        vertical-align: top;\n",
       "    }\n",
       "\n",
       "    .dataframe thead th {\n",
       "        text-align: right;\n",
       "    }\n",
       "</style>\n",
       "<table border=\"1\" class=\"dataframe\">\n",
       "  <thead>\n",
       "    <tr style=\"text-align: right;\">\n",
       "      <th></th>\n",
       "      <th>ApplicantIncome</th>\n",
       "      <th>CoapplicantIncome</th>\n",
       "      <th>Gender_Female</th>\n",
       "      <th>Gender_Male</th>\n",
       "      <th>Married_No</th>\n",
       "      <th>Married_Yes</th>\n",
       "      <th>Dependents_0</th>\n",
       "      <th>Dependents_1</th>\n",
       "      <th>Dependents_2</th>\n",
       "      <th>Dependents_3+</th>\n",
       "      <th>Education_Graduate</th>\n",
       "      <th>Education_Not Graduate</th>\n",
       "      <th>Self_Employed_No</th>\n",
       "      <th>Self_Employed_Yes</th>\n",
       "    </tr>\n",
       "  </thead>\n",
       "  <tbody>\n",
       "    <tr>\n",
       "      <th>0</th>\n",
       "      <td>0.277770</td>\n",
       "      <td>0.000000</td>\n",
       "      <td>0</td>\n",
       "      <td>1</td>\n",
       "      <td>1</td>\n",
       "      <td>0</td>\n",
       "      <td>1</td>\n",
       "      <td>0</td>\n",
       "      <td>0</td>\n",
       "      <td>0</td>\n",
       "      <td>1</td>\n",
       "      <td>0</td>\n",
       "      <td>1</td>\n",
       "      <td>0</td>\n",
       "    </tr>\n",
       "    <tr>\n",
       "      <th>1</th>\n",
       "      <td>0.256155</td>\n",
       "      <td>0.167929</td>\n",
       "      <td>0</td>\n",
       "      <td>1</td>\n",
       "      <td>0</td>\n",
       "      <td>1</td>\n",
       "      <td>0</td>\n",
       "      <td>1</td>\n",
       "      <td>0</td>\n",
       "      <td>0</td>\n",
       "      <td>1</td>\n",
       "      <td>0</td>\n",
       "      <td>1</td>\n",
       "      <td>0</td>\n",
       "    </tr>\n",
       "  </tbody>\n",
       "</table>\n",
       "</div>"
      ],
      "text/plain": [
       "   ApplicantIncome  CoapplicantIncome  Gender_Female  Gender_Male  Married_No  \\\n",
       "0         0.277770           0.000000              0            1           1   \n",
       "1         0.256155           0.167929              0            1           0   \n",
       "\n",
       "   Married_Yes  Dependents_0  Dependents_1  Dependents_2  Dependents_3+  \\\n",
       "0            0             1             0             0              0   \n",
       "1            1             0             1             0              0   \n",
       "\n",
       "   Education_Graduate  Education_Not Graduate  Self_Employed_No  \\\n",
       "0                   1                       0                 1   \n",
       "1                   1                       0                 1   \n",
       "\n",
       "   Self_Employed_Yes  \n",
       "0                  0  \n",
       "1                  0  "
      ]
     },
     "execution_count": 38,
     "metadata": {},
     "output_type": "execute_result"
    }
   ],
   "source": [
    "xnew.head(2)"
   ]
  },
  {
   "cell_type": "markdown",
   "id": "0d93a48f",
   "metadata": {},
   "source": [
    "# split"
   ]
  },
  {
   "cell_type": "code",
   "execution_count": 39,
   "id": "cdbec1b7",
   "metadata": {},
   "outputs": [],
   "source": [
    "from sklearn.model_selection import train_test_split\n",
    "xtrain,xtest,ytrain,ytest=train_test_split(xnew,Y,test_size=0.2,random_state=21)"
   ]
  },
  {
   "cell_type": "markdown",
   "id": "93f2755e",
   "metadata": {},
   "source": [
    "# BACKWARD ELIMINATION"
   ]
  },
  {
   "cell_type": "code",
   "execution_count": 40,
   "id": "aaa27f37",
   "metadata": {},
   "outputs": [
    {
     "data": {
      "text/html": [
       "<table class=\"simpletable\">\n",
       "<caption>OLS Regression Results</caption>\n",
       "<tr>\n",
       "  <th>Dep. Variable:</th>       <td>LoanAmount</td>    <th>  R-squared:         </th> <td>   0.405</td>\n",
       "</tr>\n",
       "<tr>\n",
       "  <th>Model:</th>                   <td>OLS</td>       <th>  Adj. R-squared:    </th> <td>   0.393</td>\n",
       "</tr>\n",
       "<tr>\n",
       "  <th>Method:</th>             <td>Least Squares</td>  <th>  F-statistic:       </th> <td>   34.04</td>\n",
       "</tr>\n",
       "<tr>\n",
       "  <th>Date:</th>             <td>Sat, 31 Dec 2022</td> <th>  Prob (F-statistic):</th> <td>1.13e-45</td>\n",
       "</tr>\n",
       "<tr>\n",
       "  <th>Time:</th>                 <td>10:57:40</td>     <th>  Log-Likelihood:    </th> <td> -2397.2</td>\n",
       "</tr>\n",
       "<tr>\n",
       "  <th>No. Observations:</th>      <td>   461</td>      <th>  AIC:               </th> <td>   4814.</td>\n",
       "</tr>\n",
       "<tr>\n",
       "  <th>Df Residuals:</th>          <td>   451</td>      <th>  BIC:               </th> <td>   4856.</td>\n",
       "</tr>\n",
       "<tr>\n",
       "  <th>Df Model:</th>              <td>     9</td>      <th>                     </th>     <td> </td>   \n",
       "</tr>\n",
       "<tr>\n",
       "  <th>Covariance Type:</th>      <td>nonrobust</td>    <th>                     </th>     <td> </td>   \n",
       "</tr>\n",
       "</table>\n",
       "<table class=\"simpletable\">\n",
       "<tr>\n",
       "             <td></td>               <th>coef</th>     <th>std err</th>      <th>t</th>      <th>P>|t|</th>  <th>[0.025</th>    <th>0.975]</th>  \n",
       "</tr>\n",
       "<tr>\n",
       "  <th>const</th>                  <td>   22.6907</td> <td>    1.807</td> <td>   12.556</td> <td> 0.000</td> <td>   19.139</td> <td>   26.242</td>\n",
       "</tr>\n",
       "<tr>\n",
       "  <th>ApplicantIncome</th>        <td>  199.2006</td> <td>   14.743</td> <td>   13.512</td> <td> 0.000</td> <td>  170.227</td> <td>  228.174</td>\n",
       "</tr>\n",
       "<tr>\n",
       "  <th>CoapplicantIncome</th>      <td>  131.7222</td> <td>   12.214</td> <td>   10.784</td> <td> 0.000</td> <td>  107.719</td> <td>  155.726</td>\n",
       "</tr>\n",
       "<tr>\n",
       "  <th>Gender_Female</th>          <td>    7.9896</td> <td>    3.245</td> <td>    2.462</td> <td> 0.014</td> <td>    1.613</td> <td>   14.366</td>\n",
       "</tr>\n",
       "<tr>\n",
       "  <th>Gender_Male</th>            <td>   14.7011</td> <td>    2.828</td> <td>    5.199</td> <td> 0.000</td> <td>    9.144</td> <td>   20.258</td>\n",
       "</tr>\n",
       "<tr>\n",
       "  <th>Married_No</th>             <td>   10.8813</td> <td>    2.709</td> <td>    4.017</td> <td> 0.000</td> <td>    5.558</td> <td>   16.204</td>\n",
       "</tr>\n",
       "<tr>\n",
       "  <th>Married_Yes</th>            <td>   11.8095</td> <td>    2.640</td> <td>    4.473</td> <td> 0.000</td> <td>    6.620</td> <td>   16.999</td>\n",
       "</tr>\n",
       "<tr>\n",
       "  <th>Dependents_0</th>           <td>   -1.9969</td> <td>    3.401</td> <td>   -0.587</td> <td> 0.557</td> <td>   -8.682</td> <td>    4.688</td>\n",
       "</tr>\n",
       "<tr>\n",
       "  <th>Dependents_1</th>           <td>    5.6694</td> <td>    4.538</td> <td>    1.249</td> <td> 0.212</td> <td>   -3.248</td> <td>   14.587</td>\n",
       "</tr>\n",
       "<tr>\n",
       "  <th>Dependents_2</th>           <td>    3.6436</td> <td>    4.525</td> <td>    0.805</td> <td> 0.421</td> <td>   -5.249</td> <td>   12.537</td>\n",
       "</tr>\n",
       "<tr>\n",
       "  <th>Dependents_3+</th>          <td>   15.3747</td> <td>    5.784</td> <td>    2.658</td> <td> 0.008</td> <td>    4.008</td> <td>   26.742</td>\n",
       "</tr>\n",
       "<tr>\n",
       "  <th>Education_Graduate</th>     <td>   15.3636</td> <td>    2.624</td> <td>    5.854</td> <td> 0.000</td> <td>   10.206</td> <td>   20.521</td>\n",
       "</tr>\n",
       "<tr>\n",
       "  <th>Education_Not Graduate</th> <td>    7.3272</td> <td>    2.746</td> <td>    2.668</td> <td> 0.008</td> <td>    1.930</td> <td>   12.725</td>\n",
       "</tr>\n",
       "<tr>\n",
       "  <th>Self_Employed_No</th>       <td>    8.9327</td> <td>    2.855</td> <td>    3.128</td> <td> 0.002</td> <td>    3.321</td> <td>   14.544</td>\n",
       "</tr>\n",
       "<tr>\n",
       "  <th>Self_Employed_Yes</th>      <td>   13.7581</td> <td>    3.734</td> <td>    3.684</td> <td> 0.000</td> <td>    6.419</td> <td>   21.097</td>\n",
       "</tr>\n",
       "</table>\n",
       "<table class=\"simpletable\">\n",
       "<tr>\n",
       "  <th>Omnibus:</th>       <td>28.472</td> <th>  Durbin-Watson:     </th> <td>   1.950</td>\n",
       "</tr>\n",
       "<tr>\n",
       "  <th>Prob(Omnibus):</th> <td> 0.000</td> <th>  Jarque-Bera (JB):  </th> <td>  93.528</td>\n",
       "</tr>\n",
       "<tr>\n",
       "  <th>Skew:</th>          <td> 0.114</td> <th>  Prob(JB):          </th> <td>4.91e-21</td>\n",
       "</tr>\n",
       "<tr>\n",
       "  <th>Kurtosis:</th>      <td> 5.195</td> <th>  Cond. No.          </th> <td>1.31e+17</td>\n",
       "</tr>\n",
       "</table><br/><br/>Notes:<br/>[1] Standard Errors assume that the covariance matrix of the errors is correctly specified.<br/>[2] The smallest eigenvalue is 1.13e-31. This might indicate that there are<br/>strong multicollinearity problems or that the design matrix is singular."
      ],
      "text/plain": [
       "<class 'statsmodels.iolib.summary.Summary'>\n",
       "\"\"\"\n",
       "                            OLS Regression Results                            \n",
       "==============================================================================\n",
       "Dep. Variable:             LoanAmount   R-squared:                       0.405\n",
       "Model:                            OLS   Adj. R-squared:                  0.393\n",
       "Method:                 Least Squares   F-statistic:                     34.04\n",
       "Date:                Sat, 31 Dec 2022   Prob (F-statistic):           1.13e-45\n",
       "Time:                        10:57:40   Log-Likelihood:                -2397.2\n",
       "No. Observations:                 461   AIC:                             4814.\n",
       "Df Residuals:                     451   BIC:                             4856.\n",
       "Df Model:                           9                                         \n",
       "Covariance Type:            nonrobust                                         \n",
       "==========================================================================================\n",
       "                             coef    std err          t      P>|t|      [0.025      0.975]\n",
       "------------------------------------------------------------------------------------------\n",
       "const                     22.6907      1.807     12.556      0.000      19.139      26.242\n",
       "ApplicantIncome          199.2006     14.743     13.512      0.000     170.227     228.174\n",
       "CoapplicantIncome        131.7222     12.214     10.784      0.000     107.719     155.726\n",
       "Gender_Female              7.9896      3.245      2.462      0.014       1.613      14.366\n",
       "Gender_Male               14.7011      2.828      5.199      0.000       9.144      20.258\n",
       "Married_No                10.8813      2.709      4.017      0.000       5.558      16.204\n",
       "Married_Yes               11.8095      2.640      4.473      0.000       6.620      16.999\n",
       "Dependents_0              -1.9969      3.401     -0.587      0.557      -8.682       4.688\n",
       "Dependents_1               5.6694      4.538      1.249      0.212      -3.248      14.587\n",
       "Dependents_2               3.6436      4.525      0.805      0.421      -5.249      12.537\n",
       "Dependents_3+             15.3747      5.784      2.658      0.008       4.008      26.742\n",
       "Education_Graduate        15.3636      2.624      5.854      0.000      10.206      20.521\n",
       "Education_Not Graduate     7.3272      2.746      2.668      0.008       1.930      12.725\n",
       "Self_Employed_No           8.9327      2.855      3.128      0.002       3.321      14.544\n",
       "Self_Employed_Yes         13.7581      3.734      3.684      0.000       6.419      21.097\n",
       "==============================================================================\n",
       "Omnibus:                       28.472   Durbin-Watson:                   1.950\n",
       "Prob(Omnibus):                  0.000   Jarque-Bera (JB):               93.528\n",
       "Skew:                           0.114   Prob(JB):                     4.91e-21\n",
       "Kurtosis:                       5.195   Cond. No.                     1.31e+17\n",
       "==============================================================================\n",
       "\n",
       "Notes:\n",
       "[1] Standard Errors assume that the covariance matrix of the errors is correctly specified.\n",
       "[2] The smallest eigenvalue is 1.13e-31. This might indicate that there are\n",
       "strong multicollinearity problems or that the design matrix is singular.\n",
       "\"\"\""
      ]
     },
     "execution_count": 40,
     "metadata": {},
     "output_type": "execute_result"
    }
   ],
   "source": [
    "from statsmodels.api import OLS,add_constant\n",
    "xconst=add_constant(xtrain)\n",
    "ols=OLS(ytrain,xconst).fit()\n",
    "ols.summary()\n"
   ]
  },
  {
   "cell_type": "code",
   "execution_count": 41,
   "id": "aadd2c2a",
   "metadata": {},
   "outputs": [
    {
     "data": {
      "text/plain": [
       "0.3926324305271487"
      ]
     },
     "execution_count": 41,
     "metadata": {},
     "output_type": "execute_result"
    }
   ],
   "source": [
    "ols.rsquared_adj"
   ]
  },
  {
   "cell_type": "code",
   "execution_count": 42,
   "id": "df8d8604",
   "metadata": {},
   "outputs": [],
   "source": [
    "col_to_del=ols.pvalues.sort_values().index[-1]"
   ]
  },
  {
   "cell_type": "markdown",
   "id": "9d72149b",
   "metadata": {},
   "source": [
    "# MODEL02"
   ]
  },
  {
   "cell_type": "code",
   "execution_count": 43,
   "id": "3ecb2aa8",
   "metadata": {},
   "outputs": [
    {
     "name": "stdout",
     "output_type": "stream",
     "text": [
      "0.3926324305271487 Dependents_2\n"
     ]
    }
   ],
   "source": [
    "xnew=xnew.drop(labels=col_to_del,axis=1)\n",
    "from sklearn.model_selection import train_test_split\n",
    "xtrain,xtest,ytrain,ytest=train_test_split(xnew,Y,test_size=0.2,random_state=21)\n",
    "from statsmodels.api import add_constant,OLS\n",
    "xconst=add_constant(xtrain)\n",
    "ols=OLS(ytrain,xconst).fit()\n",
    "rsq=ols.rsquared_adj\n",
    "col_to_del=ols.pvalues.sort_values().index[-1]\n",
    "print(rsq,col_to_del)"
   ]
  },
  {
   "cell_type": "markdown",
   "id": "1f4a4398",
   "metadata": {},
   "source": [
    "# MODEL03"
   ]
  },
  {
   "cell_type": "code",
   "execution_count": 44,
   "id": "251661e1",
   "metadata": {},
   "outputs": [
    {
     "name": "stdout",
     "output_type": "stream",
     "text": [
      "0.39282570513343973 Dependents_1\n"
     ]
    }
   ],
   "source": [
    "xnew=xnew.drop(labels=col_to_del,axis=1)\n",
    "from sklearn.model_selection import train_test_split\n",
    "xtrain,xtest,ytrain,ytest=train_test_split(xnew,Y,test_size=0.2,random_state=21)\n",
    "from statsmodels.api import add_constant,OLS\n",
    "xconst=add_constant(xtrain)\n",
    "ols=OLS(ytrain,xconst).fit()\n",
    "rsq=ols.rsquared_adj\n",
    "col_to_del=ols.pvalues.sort_values().index[-1]\n",
    "print(rsq,col_to_del)"
   ]
  },
  {
   "cell_type": "markdown",
   "id": "64f156d3",
   "metadata": {},
   "source": []
  },
  {
   "cell_type": "markdown",
   "id": "4258ad7c",
   "metadata": {},
   "source": [
    "# Linear Regression"
   ]
  },
  {
   "cell_type": "code",
   "execution_count": 45,
   "id": "9150bd66",
   "metadata": {},
   "outputs": [
    {
     "data": {
      "text/plain": [
       "(31.40381916201744, 31.66448565553437)"
      ]
     },
     "execution_count": 45,
     "metadata": {},
     "output_type": "execute_result"
    }
   ],
   "source": [
    "from sklearn.linear_model import LinearRegression\n",
    "lr=LinearRegression()\n",
    "model=lr.fit(xtrain,ytrain)\n",
    "tr_pred=model.predict(xtrain)\n",
    "ts_pred=model.predict(xtest)\n",
    "from sklearn.metrics import mean_absolute_error\n",
    "tr_err=mean_absolute_error(ytrain,tr_pred)\n",
    "ts_err=mean_absolute_error(ytest,ts_pred)\n",
    "tr_err,ts_err"
   ]
  },
  {
   "cell_type": "markdown",
   "id": "f3710371",
   "metadata": {},
   "source": [
    "# Ridge"
   ]
  },
  {
   "cell_type": "code",
   "execution_count": 46,
   "id": "cb14cef7",
   "metadata": {},
   "outputs": [
    {
     "data": {
      "text/plain": [
       "(31.74273950512091, 31.877882101697438)"
      ]
     },
     "execution_count": 46,
     "metadata": {},
     "output_type": "execute_result"
    }
   ],
   "source": [
    "from sklearn.linear_model import Ridge\n",
    "rr=Ridge(alpha=1)\n",
    "model=rr.fit(xtrain,ytrain)\n",
    "tr_pred=model.predict(xtrain)\n",
    "ts_pred=model.predict(xtest)\n",
    "from sklearn.metrics import mean_absolute_error\n",
    "tr_err=mean_absolute_error(ytrain,tr_pred)\n",
    "ts_err=mean_absolute_error(ytest,ts_pred)\n",
    "tr_err,ts_err"
   ]
  },
  {
   "cell_type": "code",
   "execution_count": 47,
   "id": "81957a58",
   "metadata": {},
   "outputs": [],
   "source": [
    "alphas=[]"
   ]
  },
  {
   "cell_type": "code",
   "execution_count": 48,
   "id": "2c65620d",
   "metadata": {},
   "outputs": [],
   "source": [
    "x=1"
   ]
  },
  {
   "cell_type": "code",
   "execution_count": 49,
   "id": "35c775eb",
   "metadata": {},
   "outputs": [],
   "source": [
    "for i in range(0,400,1):\n",
    "    x=x+0.1\n",
    "    alphas.append(x)"
   ]
  },
  {
   "cell_type": "code",
   "execution_count": 50,
   "id": "10697934",
   "metadata": {},
   "outputs": [],
   "source": [
    "er_tr=[]\n",
    "er_ts=[]"
   ]
  },
  {
   "cell_type": "code",
   "execution_count": 51,
   "id": "23ed2295",
   "metadata": {},
   "outputs": [],
   "source": [
    "for i in alphas:\n",
    "    from sklearn.linear_model import Ridge\n",
    "    rr=Ridge(alpha=i)\n",
    "    model=rr.fit(xtrain,ytrain)\n",
    "    tr_pred=model.predict(xtrain)\n",
    "    ts_pred=model.predict(xtest)\n",
    "    from sklearn.metrics import mean_absolute_error\n",
    "    tr_err=mean_absolute_error(ytrain,tr_pred)\n",
    "    ts_err=mean_absolute_error(ytest,ts_pred)\n",
    "    er_tr.append(tr_err)\n",
    "    er_ts.append(ts_err)"
   ]
  },
  {
   "cell_type": "code",
   "execution_count": 52,
   "id": "5d50534e",
   "metadata": {},
   "outputs": [
    {
     "data": {
      "text/plain": [
       "[<matplotlib.lines.Line2D at 0x1edcad03ee0>]"
      ]
     },
     "execution_count": 52,
     "metadata": {},
     "output_type": "execute_result"
    },
    {
     "data": {
      "image/png": "[encoded data removed]",
      "text/plain": [
       "<Figure size 432x288 with 1 Axes>"
      ]
     },
     "metadata": {
      "needs_background": "light"
     },
     "output_type": "display_data"
    }
   ],
   "source": [
    "import matplotlib.pyplot as plt\n",
    "plt.plot(er_tr)\n",
    "plt.plot(er_ts)"
   ]
  },
  {
   "cell_type": "markdown",
   "id": "557b9028",
   "metadata": {},
   "source": [
    "# LASSO"
   ]
  },
  {
   "cell_type": "code",
   "execution_count": 53,
   "id": "29a9ab27",
   "metadata": {},
   "outputs": [
    {
     "data": {
      "text/plain": [
       "(32.47003628614575, 32.21078808502011)"
      ]
     },
     "execution_count": 53,
     "metadata": {},
     "output_type": "execute_result"
    }
   ],
   "source": [
    "from sklearn.linear_model import Lasso\n",
    "ls=Lasso(alpha=0.9)\n",
    "model=ls.fit(xtrain,ytrain)\n",
    "tr_pred=model.predict(xtrain)\n",
    "ts_pred=model.predict(xtest)\n",
    "from sklearn.metrics import mean_absolute_error\n",
    "tr_err=mean_absolute_error(ytrain,tr_pred)\n",
    "ts_err=mean_absolute_error(ytest,ts_pred)\n",
    "tr_err,ts_err"
   ]
  },
  {
   "cell_type": "code",
   "execution_count": 54,
   "id": "2db84205",
   "metadata": {},
   "outputs": [],
   "source": [
    "er_tr=[]\n",
    "er_ts=[]"
   ]
  },
  {
   "cell_type": "code",
   "execution_count": 55,
   "id": "2182f2f1",
   "metadata": {},
   "outputs": [],
   "source": [
    "for i in alphas:\n",
    "    from sklearn.linear_model import Lasso\n",
    "    ls=Lasso(alpha=i)\n",
    "    model=ls.fit(xtrain,ytrain)\n",
    "    tr_pred=model.predict(xtrain)\n",
    "    ts_pred=model.predict(xtest)\n",
    "    from sklearn.metrics import mean_absolute_error\n",
    "    tr_err=mean_absolute_error(ytrain,tr_pred)\n",
    "    ts_err=mean_absolute_error(ytest,ts_pred)\n",
    "    er_tr.append(tr_err)\n",
    "    er_ts.append(ts_err)"
   ]
  },
  {
   "cell_type": "code",
   "execution_count": 56,
   "id": "54806937",
   "metadata": {},
   "outputs": [
    {
     "data": {
      "text/plain": [
       "[<matplotlib.lines.Line2D at 0x1edc4e82f10>]"
      ]
     },
     "execution_count": 56,
     "metadata": {},
     "output_type": "execute_result"
    },
    {
     "data": {
      "image/png": "[encoded data removed]",
      "text/plain": [
       "<Figure size 432x288 with 1 Axes>"
      ]
     },
     "metadata": {
      "needs_background": "light"
     },
     "output_type": "display_data"
    }
   ],
   "source": [
    "import matplotlib.pyplot as plt\n",
    "plt.plot(er_tr)\n",
    "plt.plot(er_ts)"
   ]
  },
  {
   "cell_type": "markdown",
   "id": "646b899c",
   "metadata": {},
   "source": [
    "Ridge is the winner model from backward elimination"
   ]
  },
  {
   "cell_type": "markdown",
   "id": "be0e8735",
   "metadata": {},
   "source": [
    "# DECISION TREE"
   ]
  },
  {
   "cell_type": "code",
   "execution_count": 57,
   "id": "11446ea9",
   "metadata": {},
   "outputs": [],
   "source": [
    "Y=A[['LoanAmount']]"
   ]
  },
  {
   "cell_type": "code",
   "execution_count": 58,
   "id": "66225210",
   "metadata": {},
   "outputs": [],
   "source": [
    "X=A[['Gender','Married','Dependents','Education','Self_Employed','ApplicantIncome','CoapplicantIncome']]"
   ]
  },
  {
   "cell_type": "code",
   "execution_count": 59,
   "id": "d671d92a",
   "metadata": {},
   "outputs": [],
   "source": [
    "cat=[]\n",
    "con=[]"
   ]
  },
  {
   "cell_type": "code",
   "execution_count": 60,
   "id": "17b8efe2",
   "metadata": {},
   "outputs": [],
   "source": [
    "for i in X.columns:\n",
    "    if(X[i].dtypes=='object'):\n",
    "        cat.append(i)\n",
    "    else:\n",
    "        con.append(i)"
   ]
  },
  {
   "cell_type": "code",
   "execution_count": 61,
   "id": "da8ae9b4",
   "metadata": {},
   "outputs": [
    {
     "data": {
      "text/plain": [
       "['Gender', 'Married', 'Dependents', 'Education', 'Self_Employed']"
      ]
     },
     "execution_count": 61,
     "metadata": {},
     "output_type": "execute_result"
    }
   ],
   "source": [
    "cat"
   ]
  },
  {
   "cell_type": "code",
   "execution_count": 62,
   "id": "2dbf5fbf",
   "metadata": {},
   "outputs": [
    {
     "data": {
      "text/plain": [
       "['ApplicantIncome', 'CoapplicantIncome']"
      ]
     },
     "execution_count": 62,
     "metadata": {},
     "output_type": "execute_result"
    }
   ],
   "source": [
    "con"
   ]
  },
  {
   "cell_type": "code",
   "execution_count": 63,
   "id": "49c98ece",
   "metadata": {},
   "outputs": [],
   "source": [
    "x1=X[con]\n",
    "x2=pd.get_dummies(X[cat])\n",
    "xnew=x1.join(x2)"
   ]
  },
  {
   "cell_type": "markdown",
   "id": "7576222f",
   "metadata": {},
   "source": [
    "# split"
   ]
  },
  {
   "cell_type": "code",
   "execution_count": 64,
   "id": "552a5f0e",
   "metadata": {},
   "outputs": [],
   "source": [
    "from sklearn.model_selection import train_test_split\n",
    "xtrain,xtest,ytrain,ytest=train_test_split(xnew,Y,test_size=0.2,random_state=21)"
   ]
  },
  {
   "cell_type": "markdown",
   "id": "20298d31",
   "metadata": {},
   "source": [
    "# TREE"
   ]
  },
  {
   "cell_type": "code",
   "execution_count": 65,
   "id": "9f448d9d",
   "metadata": {},
   "outputs": [
    {
     "data": {
      "text/plain": [
       "(0.3969631236442516, 45.62703867660765)"
      ]
     },
     "execution_count": 65,
     "metadata": {},
     "output_type": "execute_result"
    }
   ],
   "source": [
    "from sklearn.tree import DecisionTreeRegressor\n",
    "dtr=DecisionTreeRegressor(random_state=21)\n",
    "model=dtr.fit(xtrain,ytrain)\n",
    "tr_pred=model.predict(xtrain)\n",
    "ts_pred=model.predict(xtest)\n",
    "from sklearn.metrics import mean_absolute_error\n",
    "tr_err=mean_absolute_error(ytrain,tr_pred)\n",
    "ts_err=mean_absolute_error(ytest,ts_pred)\n",
    "tr_err,ts_err"
   ]
  },
  {
   "cell_type": "markdown",
   "id": "f674ed44",
   "metadata": {},
   "source": [
    "# pruning"
   ]
  },
  {
   "cell_type": "code",
   "execution_count": 66,
   "id": "bb4c87e3",
   "metadata": {},
   "outputs": [],
   "source": [
    "er_tr=[]\n",
    "er_ts=[]"
   ]
  },
  {
   "cell_type": "code",
   "execution_count": 67,
   "id": "4cd81624",
   "metadata": {},
   "outputs": [],
   "source": [
    "for i in range(1,20,1):\n",
    "    from sklearn.tree import DecisionTreeRegressor\n",
    "    dtr=DecisionTreeRegressor(random_state=21,max_depth=i)\n",
    "    model=dtr.fit(xtrain,ytrain)\n",
    "    tr_pred=model.predict(xtrain)\n",
    "    ts_pred=model.predict(xtest)\n",
    "    from sklearn.metrics import mean_absolute_error\n",
    "    tr_err=mean_absolute_error(ytrain,tr_pred)\n",
    "    ts_err=mean_absolute_error(ytest,ts_pred)\n",
    "    er_tr.append(tr_err)\n",
    "    er_ts.append(ts_err)"
   ]
  },
  {
   "cell_type": "code",
   "execution_count": 68,
   "id": "a53344b0",
   "metadata": {},
   "outputs": [],
   "source": [
    "import matplotlib.pyplot as plt"
   ]
  },
  {
   "cell_type": "code",
   "execution_count": 69,
   "id": "0ed74444",
   "metadata": {},
   "outputs": [
    {
     "data": {
      "text/plain": [
       "[<matplotlib.lines.Line2D at 0x1edcafdca90>]"
      ]
     },
     "execution_count": 69,
     "metadata": {},
     "output_type": "execute_result"
    },
    {
     "data": {
      "image/png": "[encoded data removed]",
      "text/plain": [
       "<Figure size 432x288 with 1 Axes>"
      ]
     },
     "metadata": {
      "needs_background": "light"
     },
     "output_type": "display_data"
    }
   ],
   "source": [
    "plt.plot(er_tr)\n",
    "plt.plot(er_ts)"
   ]
  },
  {
   "cell_type": "markdown",
   "id": "8c2f0049",
   "metadata": {},
   "source": [
    "# GRIDSEARCHCV FOR MAX_DEPTH"
   ]
  },
  {
   "cell_type": "code",
   "execution_count": 70,
   "id": "65d523a4",
   "metadata": {},
   "outputs": [
    {
     "data": {
      "text/plain": [
       "{'max_depth': 4}"
      ]
     },
     "execution_count": 70,
     "metadata": {},
     "output_type": "execute_result"
    }
   ],
   "source": [
    "tg={'max_depth':range(1,20,1)}\n",
    "from sklearn.tree import DecisionTreeRegressor\n",
    "dtr=DecisionTreeRegressor(random_state=21)\n",
    "from sklearn.model_selection import GridSearchCV\n",
    "cv=GridSearchCV(dtr,tg,scoring='neg_mean_absolute_error',cv=4)\n",
    "model=cv.fit(xnew,Y)\n",
    "model.best_params_"
   ]
  },
  {
   "cell_type": "code",
   "execution_count": 71,
   "id": "a86e0297",
   "metadata": {},
   "outputs": [
    {
     "data": {
      "text/plain": [
       "(27.650439439872812, 37.97196681148321)"
      ]
     },
     "execution_count": 71,
     "metadata": {},
     "output_type": "execute_result"
    }
   ],
   "source": [
    "from sklearn.tree import DecisionTreeRegressor\n",
    "dtr=DecisionTreeRegressor(random_state=21,max_depth=4)\n",
    "model=dtr.fit(xtrain,ytrain)\n",
    "tr_pred=model.predict(xtrain)\n",
    "ts_pred=model.predict(xtest)\n",
    "from sklearn.metrics import mean_absolute_error\n",
    "tr_err=mean_absolute_error(ytrain,tr_pred)\n",
    "ts_err=mean_absolute_error(ytest,ts_pred)\n",
    "tr_err,ts_err\n",
    "    "
   ]
  },
  {
   "cell_type": "markdown",
   "id": "209c2644",
   "metadata": {},
   "source": [
    "# GRIDSEARCHCV FOR MIN_SAMPLES_SPLIT"
   ]
  },
  {
   "cell_type": "code",
   "execution_count": 72,
   "id": "77f186aa",
   "metadata": {},
   "outputs": [
    {
     "data": {
      "text/plain": [
       "{'min_samples_split': 38}"
      ]
     },
     "execution_count": 72,
     "metadata": {},
     "output_type": "execute_result"
    }
   ],
   "source": [
    "tg={'min_samples_split':range(2,40,1)}\n",
    "from sklearn.tree import DecisionTreeRegressor\n",
    "dtr=DecisionTreeRegressor(random_state=21)\n",
    "from sklearn.model_selection import GridSearchCV\n",
    "cv=GridSearchCV(dtr,tg,scoring='neg_mean_absolute_error',cv=4)\n",
    "model=cv.fit(xnew,Y)\n",
    "model.best_params_"
   ]
  },
  {
   "cell_type": "code",
   "execution_count": 73,
   "id": "3ac69440",
   "metadata": {},
   "outputs": [
    {
     "data": {
      "text/plain": [
       "(26.29316702809277, 36.4270729254362)"
      ]
     },
     "execution_count": 73,
     "metadata": {},
     "output_type": "execute_result"
    }
   ],
   "source": [
    "from sklearn.tree import DecisionTreeRegressor\n",
    "dtr=DecisionTreeRegressor(random_state=21,min_samples_split=38)\n",
    "model=dtr.fit(xtrain,ytrain)\n",
    "tr_pred=model.predict(xtrain)\n",
    "ts_pred=model.predict(xtest)\n",
    "from sklearn.metrics import mean_absolute_error\n",
    "tr_err=mean_absolute_error(ytrain,tr_pred)\n",
    "ts_err=mean_absolute_error(ytest,ts_pred)\n",
    "tr_err,ts_err"
   ]
  },
  {
   "cell_type": "markdown",
   "id": "c3ca1d10",
   "metadata": {},
   "source": [
    "# GRIDSEARCHCV FOR MIN_SAMPLES_LEAF"
   ]
  },
  {
   "cell_type": "code",
   "execution_count": 74,
   "id": "a84a2bdc",
   "metadata": {},
   "outputs": [
    {
     "data": {
      "text/plain": [
       "{'min_samples_leaf': 14}"
      ]
     },
     "execution_count": 74,
     "metadata": {},
     "output_type": "execute_result"
    }
   ],
   "source": [
    "tg={'min_samples_leaf':range(2,40,1)}\n",
    "from sklearn.tree import DecisionTreeRegressor\n",
    "dtr=DecisionTreeRegressor(random_state=21)\n",
    "from sklearn.model_selection import GridSearchCV\n",
    "cv=GridSearchCV(dtr,tg,scoring='neg_mean_absolute_error',cv=4)\n",
    "model=cv.fit(xnew,Y)\n",
    "model.best_params_"
   ]
  },
  {
   "cell_type": "code",
   "execution_count": 75,
   "id": "5e3a7950",
   "metadata": {},
   "outputs": [
    {
     "data": {
      "text/plain": [
       "(26.890939538304902, 36.69821919849128)"
      ]
     },
     "execution_count": 75,
     "metadata": {},
     "output_type": "execute_result"
    }
   ],
   "source": [
    "from sklearn.tree import DecisionTreeRegressor\n",
    "dtr=DecisionTreeRegressor(random_state=21,min_samples_leaf=14)\n",
    "model=dtr.fit(xtrain,ytrain)\n",
    "tr_pred=model.predict(xtrain)\n",
    "ts_pred=model.predict(xtest)\n",
    "from sklearn.metrics import mean_absolute_error\n",
    "tr_err=mean_absolute_error(ytrain,tr_pred)\n",
    "ts_err=mean_absolute_error(ytest,ts_pred)\n",
    "tr_err,ts_err"
   ]
  },
  {
   "cell_type": "markdown",
   "id": "ee52b4da",
   "metadata": {},
   "source": [
    "in decision tree min_samples_leaf=14 is the winner model."
   ]
  },
  {
   "cell_type": "markdown",
   "id": "053b2f99",
   "metadata": {},
   "source": [
    "# RANDOMFOREST"
   ]
  },
  {
   "cell_type": "code",
   "execution_count": 76,
   "id": "465a053e",
   "metadata": {},
   "outputs": [
    {
     "data": {
      "text/plain": [
       "(12.242779113169567, 36.286801524430835)"
      ]
     },
     "execution_count": 76,
     "metadata": {},
     "output_type": "execute_result"
    }
   ],
   "source": [
    "from sklearn.ensemble import RandomForestRegressor\n",
    "rfr=RandomForestRegressor(n_estimators=100,random_state=21)\n",
    "model=rfr.fit(xtrain,ytrain)\n",
    "tr_pred=model.predict(xtrain)\n",
    "ts_pred=model.predict(xtest)\n",
    "from sklearn.metrics import mean_absolute_error\n",
    "tr_err=mean_absolute_error(ytrain,tr_pred)\n",
    "ts_err=mean_absolute_error(ytest,ts_pred)\n",
    "tr_err,ts_err"
   ]
  },
  {
   "cell_type": "markdown",
   "id": "df27eeff",
   "metadata": {},
   "source": [
    "# pruning for max_depth"
   ]
  },
  {
   "cell_type": "code",
   "execution_count": 77,
   "id": "90c0394d",
   "metadata": {},
   "outputs": [
    {
     "data": {
      "text/plain": [
       "{'max_depth': 5, 'n_estimators': 20}"
      ]
     },
     "execution_count": 77,
     "metadata": {},
     "output_type": "execute_result"
    }
   ],
   "source": [
    "tg={'max_depth':range(2,20,1),'n_estimators':range(10,200,10)}\n",
    "from sklearn.ensemble import RandomForestRegressor\n",
    "rfr=RandomForestRegressor(random_state=21)\n",
    "from sklearn.model_selection import GridSearchCV\n",
    "cv=GridSearchCV(rfr,tg,scoring='neg_mean_absolute_error',cv=4)\n",
    "model=cv.fit(xnew,Y)\n",
    "model.best_params_"
   ]
  },
  {
   "cell_type": "code",
   "execution_count": 78,
   "id": "613cbb3f",
   "metadata": {},
   "outputs": [
    {
     "data": {
      "text/plain": [
       "(23.969616524130554, 34.88179486006091)"
      ]
     },
     "execution_count": 78,
     "metadata": {},
     "output_type": "execute_result"
    }
   ],
   "source": [
    "from sklearn.ensemble import RandomForestRegressor\n",
    "rfr=RandomForestRegressor(n_estimators=20,max_depth=5)\n",
    "model=rfr.fit(xtrain,ytrain)\n",
    "tr_pred=model.predict(xtrain)\n",
    "ts_pred=model.predict(xtest)\n",
    "from sklearn.metrics import mean_absolute_error\n",
    "tr_err=mean_absolute_error(ytrain,tr_pred)\n",
    "ts_err=mean_absolute_error(ytest,ts_pred)\n",
    "tr_err,ts_err"
   ]
  },
  {
   "cell_type": "markdown",
   "id": "74cea7cb",
   "metadata": {},
   "source": [
    "# pruning for min_sampleas_ leaf"
   ]
  },
  {
   "cell_type": "code",
   "execution_count": 79,
   "id": "44d29c81",
   "metadata": {},
   "outputs": [
    {
     "data": {
      "text/plain": [
       "{'min_samples_leaf': 12, 'n_estimators': 50}"
      ]
     },
     "execution_count": 79,
     "metadata": {},
     "output_type": "execute_result"
    }
   ],
   "source": [
    "tg={'min_samples_leaf':range(4,20,1),'n_estimators':range(10,200,20)}\n",
    "from sklearn.ensemble import RandomForestRegressor\n",
    "rfr=RandomForestRegressor(random_state=21)\n",
    "from sklearn.model_selection import GridSearchCV\n",
    "cv=GridSearchCV(rfr,tg,scoring='neg_mean_absolute_error',cv=4)\n",
    "model=cv.fit(xnew,Y)\n",
    "model.best_params_"
   ]
  },
  {
   "cell_type": "code",
   "execution_count": 80,
   "id": "83065f0f",
   "metadata": {},
   "outputs": [
    {
     "data": {
      "text/plain": [
       "(26.656290564131904, 33.369838874130885)"
      ]
     },
     "execution_count": 80,
     "metadata": {},
     "output_type": "execute_result"
    }
   ],
   "source": [
    "from sklearn.ensemble import RandomForestRegressor\n",
    "rfr=RandomForestRegressor(n_estimators=50,min_samples_leaf=12)\n",
    "model=rfr.fit(xtrain,ytrain)\n",
    "tr_pred=model.predict(xtrain)\n",
    "ts_pred=model.predict(xtest)\n",
    "from sklearn.metrics import mean_absolute_error\n",
    "tr_err=mean_absolute_error(ytrain,tr_pred)\n",
    "ts_err=mean_absolute_error(ytest,ts_pred)\n",
    "tr_err,ts_err"
   ]
  },
  {
   "cell_type": "markdown",
   "id": "c24c42e3",
   "metadata": {},
   "source": [
    "# pruning for minimum samples split"
   ]
  },
  {
   "cell_type": "code",
   "execution_count": 81,
   "id": "393b7b9e",
   "metadata": {},
   "outputs": [
    {
     "data": {
      "text/plain": [
       "{'min_samples_split': 19, 'n_estimators': 70}"
      ]
     },
     "execution_count": 81,
     "metadata": {},
     "output_type": "execute_result"
    }
   ],
   "source": [
    "tg={'min_samples_split':range(4,20,1),'n_estimators':range(10,200,20)}\n",
    "from sklearn.ensemble import RandomForestRegressor\n",
    "rfr=RandomForestRegressor(random_state=21)\n",
    "from sklearn.model_selection import GridSearchCV\n",
    "cv=GridSearchCV(rfr,tg,scoring='neg_mean_absolute_error',cv=4)\n",
    "model=cv.fit(xnew,Y)\n",
    "model.best_params_"
   ]
  },
  {
   "cell_type": "code",
   "execution_count": 82,
   "id": "b5a20f9c",
   "metadata": {},
   "outputs": [
    {
     "data": {
      "text/plain": [
       "(23.53482099939162, 33.81582913410043)"
      ]
     },
     "execution_count": 82,
     "metadata": {},
     "output_type": "execute_result"
    }
   ],
   "source": [
    "from sklearn.ensemble import RandomForestRegressor\n",
    "rfr=RandomForestRegressor(n_estimators=70,min_samples_split=19)\n",
    "model=rfr.fit(xtrain,ytrain)\n",
    "tr_pred=model.predict(xtrain)\n",
    "ts_pred=model.predict(xtest)\n",
    "from sklearn.metrics import mean_absolute_error\n",
    "tr_err=mean_absolute_error(ytrain,tr_pred)\n",
    "ts_err=mean_absolute_error(ytest,ts_pred)\n",
    "tr_err,ts_err"
   ]
  },
  {
   "cell_type": "markdown",
   "id": "d9824e45",
   "metadata": {},
   "source": [
    "'min_samples_leaf': 12, 'n_estimators': 50 is the winner model in random forest."
   ]
  },
  {
   "cell_type": "markdown",
   "id": "5a67d117",
   "metadata": {},
   "source": [
    "# ADABOOST"
   ]
  },
  {
   "cell_type": "code",
   "execution_count": 84,
   "id": "0118de7f",
   "metadata": {},
   "outputs": [
    {
     "data": {
      "text/plain": [
       "(32.38373326337643, 36.89849379424974)"
      ]
     },
     "execution_count": 84,
     "metadata": {},
     "output_type": "execute_result"
    }
   ],
   "source": [
    "from sklearn.ensemble import AdaBoostRegressor\n",
    "from sklearn.tree import DecisionTreeRegressor\n",
    "dtr=DecisionTreeRegressor(max_depth=2,random_state=21)\n",
    "abr=AdaBoostRegressor(dtr,n_estimators=100)\n",
    "model=abr.fit(xtrain,ytrain)\n",
    "tr_pred=model.predict(xtrain)\n",
    "ts_pred=model.predict(xtest)\n",
    "from sklearn.metrics import mean_absolute_error\n",
    "tr_err=mean_absolute_error(ytrain,tr_pred)\n",
    "ts_err=mean_absolute_error(ytest,ts_pred)\n",
    "tr_err,ts_err"
   ]
  },
  {
   "cell_type": "markdown",
   "id": "be4fd27a",
   "metadata": {},
   "source": [
    "# GRIDSEARCHCV"
   ]
  },
  {
   "cell_type": "code",
   "execution_count": 85,
   "id": "d2b9f33b",
   "metadata": {},
   "outputs": [
    {
     "data": {
      "text/plain": [
       "{'n_estimators': 80}"
      ]
     },
     "execution_count": 85,
     "metadata": {},
     "output_type": "execute_result"
    }
   ],
   "source": [
    "tg={'n_estimators':range(20,200,20)}\n",
    "from sklearn.ensemble import AdaBoostRegressor\n",
    "from sklearn.tree import DecisionTreeRegressor\n",
    "from sklearn.model_selection import GridSearchCV\n",
    "dtr=DecisionTreeRegressor(max_depth=2,random_state=21)\n",
    "abr=AdaBoostRegressor(dtr)\n",
    "cv=GridSearchCV(abr,tg,scoring='neg_mean_absolute_error',cv=4)\n",
    "model=cv.fit(xnew,Y)\n",
    "model.best_params_"
   ]
  },
  {
   "cell_type": "code",
   "execution_count": 86,
   "id": "cb13c834",
   "metadata": {},
   "outputs": [
    {
     "data": {
      "text/plain": [
       "(31.95502191609798, 36.203114572400736)"
      ]
     },
     "execution_count": 86,
     "metadata": {},
     "output_type": "execute_result"
    }
   ],
   "source": [
    "from sklearn.ensemble import AdaBoostRegressor\n",
    "from sklearn.tree import DecisionTreeRegressor\n",
    "dtr=DecisionTreeRegressor(max_depth=2,random_state=21)\n",
    "abr=AdaBoostRegressor(dtr,n_estimators=80)\n",
    "model=abr.fit(xtrain,ytrain)\n",
    "tr_pred=model.predict(xtrain)\n",
    "ts_pred=model.predict(xtest)\n",
    "from sklearn.metrics import mean_absolute_error\n",
    "tr_err=mean_absolute_error(ytrain,tr_pred)\n",
    "ts_err=mean_absolute_error(ytest,ts_pred)\n",
    "tr_err,ts_err"
   ]
  },
  {
   "cell_type": "markdown",
   "id": "63bd1240",
   "metadata": {},
   "source": [
    "sr.no        model              tr_err      ts_err \n",
    "01      linear regression        31.40       31.66\n",
    "02          ridge                31.74       31.87\n",
    "03          lasso                32.47       32.21\n",
    "04        Decision tree          26          36\n",
    "05        random_forest           26         33\n",
    "06        adaboost                31         36"
   ]
  },
  {
   "cell_type": "code",
   "execution_count": null,
   "id": "6e660e2f",
   "metadata": {},
   "outputs": [],
   "source": [
    "Linear regression is the winner model."
   ]
  },
  {
   "cell_type": "markdown",
   "id": "ef063746",
   "metadata": {},
   "source": [
    "# Linear regression"
   ]
  },
  {
   "cell_type": "code",
   "execution_count": 93,
   "id": "98535b47",
   "metadata": {},
   "outputs": [],
   "source": [
    "Y=A[['LoanAmount']]"
   ]
  },
  {
   "cell_type": "code",
   "execution_count": 94,
   "id": "b027ce5b",
   "metadata": {},
   "outputs": [],
   "source": [
    "X=A[['Gender','Married','Dependents','Education','Self_Employed','ApplicantIncome','CoapplicantIncome']]"
   ]
  },
  {
   "cell_type": "code",
   "execution_count": 96,
   "id": "bee3a6bb",
   "metadata": {},
   "outputs": [],
   "source": [
    "cat=[]\n",
    "con=[]"
   ]
  },
  {
   "cell_type": "code",
   "execution_count": 97,
   "id": "6fe215ee",
   "metadata": {},
   "outputs": [],
   "source": [
    "for i in X.columns:\n",
    "    if(X[i].dtypes=='object'):\n",
    "        cat.append(i)\n",
    "    else:\n",
    "        con.append(i)"
   ]
  },
  {
   "cell_type": "code",
   "execution_count": 61,
   "id": "11475d29",
   "metadata": {},
   "outputs": [],
   "source": [
    "from sklearn.preprocessing import StandardScaler\n",
    "ss=StandardScaler()\n",
    "x1=pd.DataFrame(ss.fit_transform(A[con]),columns=con)\n",
    "x2=pd.get_dummies(X[cat])\n",
    "xnew=x1.join(x2)"
   ]
  },
  {
   "cell_type": "code",
   "execution_count": 47,
   "id": "abb6ae40",
   "metadata": {},
   "outputs": [
    {
     "data": {
      "text/plain": [
       "Index(['ApplicantIncome', 'CoapplicantIncome', 'Gender_Female', 'Gender_Male',\n",
       "       'Married_No', 'Married_Yes', 'Dependents_0', 'Dependents_1',\n",
       "       'Dependents_2', 'Dependents_3+', 'Education_Graduate',\n",
       "       'Education_Not Graduate', 'Self_Employed_No', 'Self_Employed_Yes'],\n",
       "      dtype='object')"
      ]
     },
     "execution_count": 47,
     "metadata": {},
     "output_type": "execute_result"
    }
   ],
   "source": [
    "xnew.columns"
   ]
  },
  {
   "cell_type": "code",
   "execution_count": 48,
   "id": "c7931a96",
   "metadata": {},
   "outputs": [],
   "source": [
    "xnew=xnew.drop(labels=['Dependents_0','Dependents_2'],axis=1)"
   ]
  },
  {
   "cell_type": "markdown",
   "id": "045cf429",
   "metadata": {},
   "source": [
    "# test data"
   ]
  },
  {
   "cell_type": "code",
   "execution_count": 52,
   "id": "4446a2ae",
   "metadata": {},
   "outputs": [],
   "source": [
    "B=pd.read_csv('C:/Users/dell/Desktop/testing_set.csv')"
   ]
  },
  {
   "cell_type": "code",
   "execution_count": 53,
   "id": "fde11e9d",
   "metadata": {},
   "outputs": [],
   "source": [
    "C=B[['Loan_ID']]\n"
   ]
  },
  {
   "cell_type": "code",
   "execution_count": 54,
   "id": "47ba7eda",
   "metadata": {},
   "outputs": [],
   "source": [
    "B=B.drop(labels=['LoanAmount'],axis=1)"
   ]
  },
  {
   "cell_type": "code",
   "execution_count": 56,
   "id": "c6cc5092",
   "metadata": {},
   "outputs": [
    {
     "data": {
      "text/plain": [
       "Index(['Loan_ID', 'Gender', 'Married', 'Dependents', 'Education',\n",
       "       'Self_Employed', 'ApplicantIncome', 'CoapplicantIncome',\n",
       "       'Loan_Amount_Term', 'Credit_History', 'Property_Area'],\n",
       "      dtype='object')"
      ]
     },
     "execution_count": 56,
     "metadata": {},
     "output_type": "execute_result"
    }
   ],
   "source": [
    "B.columns"
   ]
  },
  {
   "cell_type": "code",
   "execution_count": 57,
   "id": "2759bd0e",
   "metadata": {},
   "outputs": [],
   "source": [
    "Bnew=B[['Gender','Married','Dependents','Education','Self_Employed','ApplicantIncome','CoapplicantIncome']]"
   ]
  },
  {
   "cell_type": "code",
   "execution_count": 58,
   "id": "7db62ad1",
   "metadata": {},
   "outputs": [],
   "source": [
    "cat=[]\n",
    "con=[]"
   ]
  },
  {
   "cell_type": "code",
   "execution_count": 59,
   "id": "f7262f3e",
   "metadata": {},
   "outputs": [],
   "source": [
    "for i in Bnew:\n",
    "    if(B[i].dtypes=='object'):\n",
    "        cat.append(i)\n",
    "    else:\n",
    "        con.append(i)"
   ]
  },
  {
   "cell_type": "code",
   "execution_count": 65,
   "id": "3366a4c1",
   "metadata": {},
   "outputs": [],
   "source": [
    "from sklearn.preprocessing import StandardScaler\n",
    "B1=pd.DataFrame(ss.transform(B[con]),columns=con)\n",
    "B2=pd.get_dummies(B[cat])\n",
    "Bnew=B1.join(B2)"
   ]
  },
  {
   "cell_type": "code",
   "execution_count": 66,
   "id": "6a6ad849",
   "metadata": {},
   "outputs": [
    {
     "data": {
      "text/plain": [
       "Index(['ApplicantIncome', 'CoapplicantIncome', 'Gender_Female', 'Gender_Male',\n",
       "       'Married_No', 'Married_Yes', 'Dependents_0', 'Dependents_1',\n",
       "       'Dependents_2', 'Dependents_3+', 'Education_Graduate',\n",
       "       'Education_Not Graduate', 'Self_Employed_No', 'Self_Employed_Yes'],\n",
       "      dtype='object')"
      ]
     },
     "execution_count": 66,
     "metadata": {},
     "output_type": "execute_result"
    }
   ],
   "source": [
    "Bnew.columns"
   ]
  },
  {
   "cell_type": "code",
   "execution_count": 68,
   "id": "17971439",
   "metadata": {},
   "outputs": [
    {
     "data": {
      "text/plain": [
       "Index(['ApplicantIncome', 'CoapplicantIncome', 'Gender_Female', 'Gender_Male',\n",
       "       'Married_No', 'Married_Yes', 'Dependents_0', 'Dependents_1',\n",
       "       'Dependents_2', 'Dependents_3+', 'Education_Graduate',\n",
       "       'Education_Not Graduate', 'Self_Employed_No', 'Self_Employed_Yes'],\n",
       "      dtype='object')"
      ]
     },
     "execution_count": 68,
     "metadata": {},
     "output_type": "execute_result"
    }
   ],
   "source": [
    "xnew.columns"
   ]
  },
  {
   "cell_type": "markdown",
   "id": "4602ed6e",
   "metadata": {},
   "source": [
    "# Linear regression model"
   ]
  },
  {
   "cell_type": "code",
   "execution_count": 70,
   "id": "ef18a291",
   "metadata": {},
   "outputs": [],
   "source": [
    "from sklearn.linear_model import LinearRegression\n",
    "lr=LinearRegression()\n",
    "model=lr.fit(xnew,Y)\n",
    "ts_pred=model.predict(Bnew)\n"
   ]
  },
  {
   "cell_type": "code",
   "execution_count": 74,
   "id": "b6ff8c74",
   "metadata": {},
   "outputs": [],
   "source": [
    "pred=pd.DataFrame(ts_pred,columns=['pred_LoanAmount'])"
   ]
  },
  {
   "cell_type": "code",
   "execution_count": 78,
   "id": "bf04b0b6",
   "metadata": {},
   "outputs": [],
   "source": [
    "pred['LOAN_ID']=C[['Loan_ID']]"
   ]
  },
  {
   "cell_type": "code",
   "execution_count": 81,
   "id": "abe608c0",
   "metadata": {},
   "outputs": [],
   "source": [
    "pred=pred[['LOAN_ID','pred_LoanAmount']]"
   ]
  },
  {
   "cell_type": "code",
   "execution_count": 82,
   "id": "1b9c072e",
   "metadata": {},
   "outputs": [
    {
     "data": {
      "text/html": [
       "<div>\n",
       "<style scoped>\n",
       "    .dataframe tbody tr th:only-of-type {\n",
       "        vertical-align: middle;\n",
       "    }\n",
       "\n",
       "    .dataframe tbody tr th {\n",
       "        vertical-align: top;\n",
       "    }\n",
       "\n",
       "    .dataframe thead th {\n",
       "        text-align: right;\n",
       "    }\n",
       "</style>\n",
       "<table border=\"1\" class=\"dataframe\">\n",
       "  <thead>\n",
       "    <tr style=\"text-align: right;\">\n",
       "      <th></th>\n",
       "      <th>LOAN_ID</th>\n",
       "      <th>pred_LoanAmount</th>\n",
       "    </tr>\n",
       "  </thead>\n",
       "  <tbody>\n",
       "    <tr>\n",
       "      <th>0</th>\n",
       "      <td>LP001015</td>\n",
       "      <td>126.226606</td>\n",
       "    </tr>\n",
       "    <tr>\n",
       "      <th>1</th>\n",
       "      <td>LP001022</td>\n",
       "      <td>129.436968</td>\n",
       "    </tr>\n",
       "    <tr>\n",
       "      <th>2</th>\n",
       "      <td>LP001031</td>\n",
       "      <td>153.307141</td>\n",
       "    </tr>\n",
       "    <tr>\n",
       "      <th>3</th>\n",
       "      <td>LP001035</td>\n",
       "      <td>137.817494</td>\n",
       "    </tr>\n",
       "    <tr>\n",
       "      <th>4</th>\n",
       "      <td>LP001051</td>\n",
       "      <td>92.006961</td>\n",
       "    </tr>\n",
       "    <tr>\n",
       "      <th>...</th>\n",
       "      <td>...</td>\n",
       "      <td>...</td>\n",
       "    </tr>\n",
       "    <tr>\n",
       "      <th>362</th>\n",
       "      <td>LP002971</td>\n",
       "      <td>144.732581</td>\n",
       "    </tr>\n",
       "    <tr>\n",
       "      <th>363</th>\n",
       "      <td>LP002975</td>\n",
       "      <td>120.908778</td>\n",
       "    </tr>\n",
       "    <tr>\n",
       "      <th>364</th>\n",
       "      <td>LP002980</td>\n",
       "      <td>126.871710</td>\n",
       "    </tr>\n",
       "    <tr>\n",
       "      <th>365</th>\n",
       "      <td>LP002986</td>\n",
       "      <td>152.586680</td>\n",
       "    </tr>\n",
       "    <tr>\n",
       "      <th>366</th>\n",
       "      <td>LP002989</td>\n",
       "      <td>157.619831</td>\n",
       "    </tr>\n",
       "  </tbody>\n",
       "</table>\n",
       "<p>367 rows × 2 columns</p>\n",
       "</div>"
      ],
      "text/plain": [
       "      LOAN_ID  pred_LoanAmount\n",
       "0    LP001015       126.226606\n",
       "1    LP001022       129.436968\n",
       "2    LP001031       153.307141\n",
       "3    LP001035       137.817494\n",
       "4    LP001051        92.006961\n",
       "..        ...              ...\n",
       "362  LP002971       144.732581\n",
       "363  LP002975       120.908778\n",
       "364  LP002980       126.871710\n",
       "365  LP002986       152.586680\n",
       "366  LP002989       157.619831\n",
       "\n",
       "[367 rows x 2 columns]"
      ]
     },
     "execution_count": 82,
     "metadata": {},
     "output_type": "execute_result"
    }
   ],
   "source": [
    "pred"
   ]
  },
  {
   "cell_type": "code",
   "execution_count": 83,
   "id": "42d97497",
   "metadata": {},
   "outputs": [],
   "source": [
    "pred.to_csv('C:/Users/dell/Desktop/loan_amount.csv')"
   ]
  },
  {
   "cell_type": "code",
   "execution_count": null,
   "id": "a0f9de3b",
   "metadata": {},
   "outputs": [],
   "source": []
  }
 ],
 "metadata": {
  "kernelspec": {
   "display_name": "Python 3",
   "language": "python",
   "name": "python3"
  },
  "language_info": {
   "codemirror_mode": {
    "name": "ipython",
    "version": 3
   },
   "file_extension": ".py",
   "mimetype": "text/x-python",
   "name": "python",
   "nbconvert_exporter": "python",
   "pygments_lexer": "ipython3",
   "version": "3.8.8"
  }
 },
 "nbformat": 4,
 "nbformat_minor": 5
}
